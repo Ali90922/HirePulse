{
 "cells": [
  {
   "cell_type": "code",
   "execution_count": 3,
   "id": "6f100c93",
   "metadata": {},
   "outputs": [],
   "source": [
    "from langchain_groq import ChatGroq\n",
    "\n",
    "llm = ChatGroq(\n",
    "    temperature=0, \n",
    "    groq_api_key='API', \n",
    "    model_name=\"llama-3.1-70b-versatile\"\n",
    ")"
   ]
  },
  {
   "cell_type": "code",
   "execution_count": 4,
   "id": "21a16dc6",
   "metadata": {},
   "outputs": [],
   "source": [
    "response = llm.invoke(\"the first person on earth was?\")"
   ]
  },
  {
   "cell_type": "code",
   "execution_count": 5,
   "id": "ca933d3e",
   "metadata": {},
   "outputs": [
    {
     "name": "stdout",
     "output_type": "stream",
     "text": [
      "The concept of the \"first person on Earth\" is a bit complex, as it's difficult to pinpoint a single individual. However, I can provide some insights based on scientific theories and discoveries.\n",
      "\n",
      "According to the most widely accepted scientific theory, humans evolved from a common ancestor with other primates in Africa around 6-8 million years ago. The earliest human-like species, such as Sahelanthropus tchadensis, appeared around 7 million years ago.\n",
      "\n",
      "Fast-forwarding to the emergence of Homo sapiens (modern humans), the earliest fossils of anatomically modern humans date back to around 300,000 years ago in Africa. These early humans are thought to have evolved from a predecessor species, Homo heidelbergensis.\n",
      "\n",
      "One of the most famous early human fossils is \"Lucy,\" a 3.2 million-year-old Australopithecus afarensis discovered in Ethiopia in 1974. However, Lucy is not considered a direct ancestor of modern humans.\n",
      "\n",
      "As for the \"first person on Earth,\" it's impossible to identify a single individual. The earliest humans likely lived in small groups, and their populations were likely small and scattered.\n",
      "\n",
      "However, if we're looking for a symbolic \"first person,\" we could consider the earliest known human ancestor, Sahelanthropus tchadensis, or the earliest known Homo sapiens, such as the fossils found in Morocco, which date back to around 300,000 years ago.\n",
      "\n",
      "Keep in mind that the concept of a single \"first person\" is more of a philosophical or symbolic idea, rather than a scientifically proven fact.\n"
     ]
    }
   ],
   "source": [
    "print(response.content)"
   ]
  },
  {
   "cell_type": "code",
   "execution_count": 6,
   "id": "259775cc",
   "metadata": {},
   "outputs": [
    {
     "name": "stdout",
     "output_type": "stream",
     "text": [
      "Apply for Lead Software Engineer, ITC\n",
      "\n",
      "Search JobsSkip navigationSearch JobsNIKE, INC. JOBSContract JobsJoin The Talent CommunityLife @ NikeOverviewBenefitsBrandsOverviewJordanConverseTeamsOverviewAdministrative SupportAdvanced InnovationAir Manufacturing InnovationAviationCommunicationsCustomer ServiceDesignDigitalFacilitiesFinance & AccountingGovernment & Public AffairsHuman ResourcesInsights & AnalyticsLegalManufacturing & EngineeringMarketingMerchandisingPlanningPrivacyProcurementProduct Creation, Development & ManagementRetail CorporateRetail StoresSalesSocial & Community ImpactSports MarketingStrategic PlanningSupply Chain, Distribution & LogisticsSustainabilityTechnologyLocationsOverviewNike WHQNike New York HQEHQ: Hilversum, The NetherlandsELC: Laakdal, BelgiumGreater China HQDiversity, Equity & InclusionOverviewMilitary InclusionDisability InclusionIndigenous InclusionInternshipsTechnologyLead Software Engineer, ITCKarnataka, IndiaBecome a Part of the NIKE, Inc. TeamNIKE, Inc. does more than outfit the world’s best athletes. It is a place to explore potential, obliterate boundaries and push out the edges of what can be. The company looks for people who can grow, think, dream and create. Its culture thrives by embracing diversity and rewarding imagination. The brand seeks achievers, leaders and visionaries. At NIKE, Inc. it’s about each person bringing skills and passion to a challenging and constantly evolving game.NIKE is a technology company. From our flagship website and five-star mobile apps to developing products, managing big data and providing leading edge engineering and systems support, our teams at NIKE Global Technology exist to revolutionize the future at the confluence of tech and sport. We invest and develop advances in technology and employ the most creative people in the world, and then give them the support to constantly innovate, iterate and serve consumers more directly and personally.  Our teams are innovative, diverse, multidisciplinary and collaborative, taking technology into the future and bringing the world with it.Supply Chain & Planning Technology (SCPT) team under GlobaL Technology (GT) at Nike  is implementing Integrated Business Planning across demand and supply management. Our vision is to optimize demand and supply to serve customers and drive profitable growth through Merchandize Financial Planning and Assortment planning for Nike Consumer Channels and its Partners. Primary focus is to build technology platforms harnessing the data, art and science to drive better business decisions and outcomes. We will do this by creating an environment where everyone thrives with a growth mindset culture with smart risk taking, measurement and continuous learning. Our products will be driven by Customer focus, User centric design and mindset.WHO WE ARE LOOKING FORIn this role we are looking for a high potential Lead Engineer with strong Planning domain expertise to lead and mentor a team of engineers with a focus to develop solutions for the various products of Demand & Supply Planning capability. As a Lead Engineer you are thoughtful, aspirational and adept at solutioning, architecture and hands on delivery.Advocate and implement business transformation solutions and best practices.Advocate DevOps practices & mindset and strong culture of innovationWHAT YOU WILL WORK ONDemand  & Supply planning application deisgn and implementation with emphasis on distributed systems concepts.Implement business solutions leveraging custom data platform and O9  platform.Design, develop, configure ,review code, and deploy cloud-based products.Drive engineering activities from designing through deployment while adhering to established Architectural guidelines and principles.Collaborate with other stake holders across the Enterprise, Planning technical platforms, technology stack and solutions to meet demand of our ever-changing consumer needs.Provide insights for developing and communicating Technology Strategy and roadmap; ensure alignment to planing technology strategies.Manage and prioritize the product backlog on an ongoing basis and lead work through Agile practices.Commitment to and hands-on experience in leading/performing technical quality reviews and test-driven development.Build strong domain acumen to deliver to product strategy, value drops and business outcomesWHO YOU WILL WORK WITHCollaborate with Product Managers to understand requirements to define scope and estimate level of effort. Ensure that Engineers on the team have the full context and understanding of customers and business requirements to create valuable solutions.Help build an effective team and partnership with stakeholders.Lead, mentor, and inspire Engineering team, managing work and delivering high performing solutions.Establish trust and build strong and effective partnership with technical leaders and architects in various functions across regions/global locationsPartner effectively with vendor partners contingent workforce to ensure delivery and positive resultsThis role will report to the leader of Engineering accountable to deliver demand and supply capability solutions to Nike Planning users.WHAT YOU BRINGBachelor of Engineering in Computer Science, Information Systems or other relevant subject area related to information technology8+ years hands on experience in technical architecture, design, development & of demand or inventory planning products/applicationsHands on development and configuration in supporting product needs.Experience in Integrated Business Planning solutions like O9 is MandatoryStrong techno-functional experience in planning business domain, data domains, planning algorithms and solvers.Strong experience in PL/SQL and working on data products and data analysis of Planinng is required.A minimum of 3 years of experience working cloud environments such as AWS, Azure or GCPExcellent understanding of business processes in Enterprise Planning–preferably in end to end demand and supply Planning and Deployment.Expert knowledge and experience with a diversity of tools and platformsProven ability to rapidly learn new functional domains, developing and implementing proof of conceptsExperience developing applications that has data and app complexityExperience with Scrum and other Agile processes. Knowledge of Jira, Git/SVN, Jenkins, CI/CD pipelinesComfortable working in a multi-tasking, fast-paced, results-oriented environment and maturity in understanding and managing team dyanmics.Excellent verbal and written communication and collaboration skills to effectively communicate with both business and technical IT teams across global locationsPassion for building trust, coaching, teaching, mentoring and learning.NIKE, Inc. is a growth company that looks for team members to grow with it. Nike offers a generous total rewards package, casual work environment, a diverse and inclusive culture, and an electric atmosphere for professional development. No matter the location, or the role, every Nike employee shares one galvanizing mission: To bring inspiration and innovation to every athlete* in the world.NIKE, Inc. is committed to employing a diverse workforce. Qualified applicants will receive consideration without regard to race, color, religion, sex, national origin, age, sexual orientation, gender identity, gender expression, veteran status, or disability.How We HireAt NIKE, Inc. we promise to provide a premium, inclusive, compelling and authentic candidate experience. Delivering on this promise means we allow you to be at your best — and to do that, you need to understand how the hiring process works. Transparency is key.\r\n",
      "\r\n",
      "* This overview explains our hiring process for corporate roles. Note there may be different hiring steps involved for non-corporate roles.Start nowBenefitsWhether it’s transportation or financial health, we continually invest in our employees to help them achieve greatness — inside and outside of work. All who work here should be able to realize their full potential.Employee Assistance ProgramHolidaysMedical PlanPaid Time Off (PTO)Product DiscountsLearn moreFIND A STORENIKE JOURNALBECOME A MEMBERFEEDBACKPROMO CODESGET HELPGET HELPOrder StatusShipping and DeliveryReturnsPayment OptionsContact UsABOUT NIKEABOUT NIKENewsCareersInvestorsSustainabilityNIKE APPSNIKE APPSNike AppNike Run ClubNike Training ClubSNKRSCanada© 2024 Nike, Inc. All Rights ReservedGuidesNike AdaptNike FlyEaseNike FreeNike VaporflyNBA Fan GearNike AirNike FlyKnitNike Pegasus Nike Zoom FlyNike Airtopia Nike Air MaxNike FlyleatherNike ReactNike ZoomXTerms of UseTerms of SaleCompany DetailsPrivacy & Cookie Policy\n"
     ]
    }
   ],
   "source": [
    "from langchain_community.document_loaders import WebBaseLoader\n",
    "\n",
    "loader = WebBaseLoader(\"https://jobs.nike.com/job/R-36827?from=job%20search%20funnel\")\n",
    "\n",
    "page_data = loader.load().pop().page_content\n",
    "print(page_data)"
   ]
  },
  {
   "cell_type": "code",
   "execution_count": 7,
   "id": "457bb78d",
   "metadata": {},
   "outputs": [
    {
     "name": "stdout",
     "output_type": "stream",
     "text": [
      "```\n",
      "{\n",
      "  \"role\": \"Lead Software Engineer, ITC\",\n",
      "  \"experience\": \"8+ years hands on experience in technical architecture, design, development & of demand or inventory planning products/applications\",\n",
      "  \"skills\": [\n",
      "    \"PL/SQL\",\n",
      "    \"Cloud environments (AWS, Azure or GCP)\",\n",
      "    \"Scrum and other Agile processes\",\n",
      "    \"Jira, Git/SVN, Jenkins, CI/CD pipelines\",\n",
      "    \"Integrated Business Planning solutions like O9\",\n",
      "    \"Planning business domain, data domains, planning algorithms and solvers\"\n",
      "  ],\n",
      "  \"description\": \"Lead and mentor a team of engineers with a focus to develop solutions for the various products of Demand & Supply Planning capability. Advocate and implement business transformation solutions and best practices. Advocate DevOps practices & mindset and strong culture of innovation.\"\n",
      "}\n",
      "```\n"
     ]
    }
   ],
   "source": [
    "from langchain_core.prompts import PromptTemplate\n",
    "\n",
    "prompt_extract = PromptTemplate.from_template(\n",
    "        \"\"\"\n",
    "        ### SCRAPED TEXT FROM WEBSITE:\n",
    "        {page_data}\n",
    "        ### INSTRUCTION:\n",
    "        The scraped text is from the career's page of a website.\n",
    "        Your job is to extract the job postings and return them in JSON format containing the \n",
    "        following keys: `role`, `experience`, `skills` and `description`.\n",
    "        Only return the valid JSON.\n",
    "        ### VALID JSON (NO PREAMBLE):    \n",
    "        \"\"\"\n",
    ")\n",
    "\n",
    "chain_extract = prompt_extract | llm \n",
    "res = chain_extract.invoke(input={'page_data':page_data})\n",
    "print(res.content)"
   ]
  },
  {
   "cell_type": "code",
   "execution_count": 8,
   "id": "ec8f4a65",
   "metadata": {},
   "outputs": [
    {
     "data": {
      "text/plain": [
       "str"
      ]
     },
     "execution_count": 8,
     "metadata": {},
     "output_type": "execute_result"
    }
   ],
   "source": [
    "type(res.content)"
   ]
  },
  {
   "cell_type": "code",
   "execution_count": 9,
   "id": "7b12c868",
   "metadata": {},
   "outputs": [
    {
     "data": {
      "text/plain": [
       "{'role': 'Lead Software Engineer, ITC',\n",
       " 'experience': '8+ years hands on experience in technical architecture, design, development & of demand or inventory planning products/applications',\n",
       " 'skills': ['PL/SQL',\n",
       "  'Cloud environments (AWS, Azure or GCP)',\n",
       "  'Scrum and other Agile processes',\n",
       "  'Jira, Git/SVN, Jenkins, CI/CD pipelines',\n",
       "  'Integrated Business Planning solutions like O9',\n",
       "  'Planning business domain, data domains, planning algorithms and solvers'],\n",
       " 'description': 'Lead and mentor a team of engineers with a focus to develop solutions for the various products of Demand & Supply Planning capability. Advocate and implement business transformation solutions and best practices. Advocate DevOps practices & mindset and strong culture of innovation.'}"
      ]
     },
     "execution_count": 9,
     "metadata": {},
     "output_type": "execute_result"
    }
   ],
   "source": [
    "from langchain_core.output_parsers import JsonOutputParser\n",
    "\n",
    "json_parser = JsonOutputParser()\n",
    "json_res = json_parser.parse(res.content)\n",
    "json_res"
   ]
  },
  {
   "cell_type": "code",
   "execution_count": 10,
   "id": "72031fe0",
   "metadata": {},
   "outputs": [
    {
     "data": {
      "text/plain": [
       "dict"
      ]
     },
     "execution_count": 10,
     "metadata": {},
     "output_type": "execute_result"
    }
   ],
   "source": [
    "type(json_res)"
   ]
  },
  {
   "cell_type": "code",
   "execution_count": 11,
   "id": "64542d00",
   "metadata": {},
   "outputs": [],
   "source": [
    "import pandas as pd\n",
    "\n",
    "df = pd.read_csv(\"my_portfolio.csv\")"
   ]
  },
  {
   "cell_type": "code",
   "execution_count": 12,
   "id": "08b47dc3",
   "metadata": {},
   "outputs": [
    {
     "data": {
      "text/html": [
       "<div>\n",
       "<style scoped>\n",
       "    .dataframe tbody tr th:only-of-type {\n",
       "        vertical-align: middle;\n",
       "    }\n",
       "\n",
       "    .dataframe tbody tr th {\n",
       "        vertical-align: top;\n",
       "    }\n",
       "\n",
       "    .dataframe thead th {\n",
       "        text-align: right;\n",
       "    }\n",
       "</style>\n",
       "<table border=\"1\" class=\"dataframe\">\n",
       "  <thead>\n",
       "    <tr style=\"text-align: right;\">\n",
       "      <th></th>\n",
       "      <th>Techstack</th>\n",
       "      <th>Links</th>\n",
       "    </tr>\n",
       "  </thead>\n",
       "  <tbody>\n",
       "    <tr>\n",
       "      <th>0</th>\n",
       "      <td>React, Node.js, MongoDB</td>\n",
       "      <td>https://example.com/react-portfolio</td>\n",
       "    </tr>\n",
       "    <tr>\n",
       "      <th>1</th>\n",
       "      <td>Angular,.NET, SQL Server</td>\n",
       "      <td>https://example.com/angular-portfolio</td>\n",
       "    </tr>\n",
       "    <tr>\n",
       "      <th>2</th>\n",
       "      <td>Vue.js, Ruby on Rails, PostgreSQL</td>\n",
       "      <td>https://example.com/vue-portfolio</td>\n",
       "    </tr>\n",
       "    <tr>\n",
       "      <th>3</th>\n",
       "      <td>Python, Django, MySQL</td>\n",
       "      <td>https://example.com/python-portfolio</td>\n",
       "    </tr>\n",
       "    <tr>\n",
       "      <th>4</th>\n",
       "      <td>Java, Spring Boot, Oracle</td>\n",
       "      <td>https://example.com/java-portfolio</td>\n",
       "    </tr>\n",
       "  </tbody>\n",
       "</table>\n",
       "</div>"
      ],
      "text/plain": [
       "                           Techstack                                  Links\n",
       "0            React, Node.js, MongoDB    https://example.com/react-portfolio\n",
       "1           Angular,.NET, SQL Server  https://example.com/angular-portfolio\n",
       "2  Vue.js, Ruby on Rails, PostgreSQL      https://example.com/vue-portfolio\n",
       "3              Python, Django, MySQL   https://example.com/python-portfolio\n",
       "4          Java, Spring Boot, Oracle     https://example.com/java-portfolio"
      ]
     },
     "execution_count": 12,
     "metadata": {},
     "output_type": "execute_result"
    }
   ],
   "source": [
    "df.head()"
   ]
  },
  {
   "cell_type": "code",
   "execution_count": 13,
   "id": "1d4fe566",
   "metadata": {},
   "outputs": [
    {
     "data": {
      "text/html": [
       "<div>\n",
       "<style scoped>\n",
       "    .dataframe tbody tr th:only-of-type {\n",
       "        vertical-align: middle;\n",
       "    }\n",
       "\n",
       "    .dataframe tbody tr th {\n",
       "        vertical-align: top;\n",
       "    }\n",
       "\n",
       "    .dataframe thead th {\n",
       "        text-align: right;\n",
       "    }\n",
       "</style>\n",
       "<table border=\"1\" class=\"dataframe\">\n",
       "  <thead>\n",
       "    <tr style=\"text-align: right;\">\n",
       "      <th></th>\n",
       "      <th>Techstack</th>\n",
       "      <th>Links</th>\n",
       "    </tr>\n",
       "  </thead>\n",
       "  <tbody>\n",
       "    <tr>\n",
       "      <th>0</th>\n",
       "      <td>React, Node.js, MongoDB</td>\n",
       "      <td>https://example.com/react-portfolio</td>\n",
       "    </tr>\n",
       "    <tr>\n",
       "      <th>1</th>\n",
       "      <td>Angular,.NET, SQL Server</td>\n",
       "      <td>https://example.com/angular-portfolio</td>\n",
       "    </tr>\n",
       "    <tr>\n",
       "      <th>2</th>\n",
       "      <td>Vue.js, Ruby on Rails, PostgreSQL</td>\n",
       "      <td>https://example.com/vue-portfolio</td>\n",
       "    </tr>\n",
       "    <tr>\n",
       "      <th>3</th>\n",
       "      <td>Python, Django, MySQL</td>\n",
       "      <td>https://example.com/python-portfolio</td>\n",
       "    </tr>\n",
       "    <tr>\n",
       "      <th>4</th>\n",
       "      <td>Java, Spring Boot, Oracle</td>\n",
       "      <td>https://example.com/java-portfolio</td>\n",
       "    </tr>\n",
       "    <tr>\n",
       "      <th>5</th>\n",
       "      <td>Flutter, Firebase, GraphQL</td>\n",
       "      <td>https://example.com/flutter-portfolio</td>\n",
       "    </tr>\n",
       "    <tr>\n",
       "      <th>6</th>\n",
       "      <td>WordPress, PHP, MySQL</td>\n",
       "      <td>https://example.com/wordpress-portfolio</td>\n",
       "    </tr>\n",
       "    <tr>\n",
       "      <th>7</th>\n",
       "      <td>Magento, PHP, MySQL</td>\n",
       "      <td>https://example.com/magento-portfolio</td>\n",
       "    </tr>\n",
       "    <tr>\n",
       "      <th>8</th>\n",
       "      <td>React Native, Node.js, MongoDB</td>\n",
       "      <td>https://example.com/react-native-portfolio</td>\n",
       "    </tr>\n",
       "    <tr>\n",
       "      <th>9</th>\n",
       "      <td>iOS, Swift, Core Data</td>\n",
       "      <td>https://example.com/ios-portfolio</td>\n",
       "    </tr>\n",
       "    <tr>\n",
       "      <th>10</th>\n",
       "      <td>Android, Java, Room Persistence</td>\n",
       "      <td>https://example.com/android-portfolio</td>\n",
       "    </tr>\n",
       "    <tr>\n",
       "      <th>11</th>\n",
       "      <td>Kotlin, Android, Firebase</td>\n",
       "      <td>https://example.com/kotlin-android-portfolio</td>\n",
       "    </tr>\n",
       "    <tr>\n",
       "      <th>12</th>\n",
       "      <td>Android TV, Kotlin, Android NDK</td>\n",
       "      <td>https://example.com/android-tv-portfolio</td>\n",
       "    </tr>\n",
       "    <tr>\n",
       "      <th>13</th>\n",
       "      <td>iOS, Swift, ARKit</td>\n",
       "      <td>https://example.com/ios-ar-portfolio</td>\n",
       "    </tr>\n",
       "    <tr>\n",
       "      <th>14</th>\n",
       "      <td>Cross-platform, Xamarin, Azure</td>\n",
       "      <td>https://example.com/xamarin-portfolio</td>\n",
       "    </tr>\n",
       "    <tr>\n",
       "      <th>15</th>\n",
       "      <td>Backend, Kotlin, Spring Boot</td>\n",
       "      <td>https://example.com/kotlin-backend-portfolio</td>\n",
       "    </tr>\n",
       "    <tr>\n",
       "      <th>16</th>\n",
       "      <td>Frontend, TypeScript, Angular</td>\n",
       "      <td>https://example.com/typescript-frontend-portfolio</td>\n",
       "    </tr>\n",
       "    <tr>\n",
       "      <th>17</th>\n",
       "      <td>Full-stack, JavaScript, Express.js</td>\n",
       "      <td>https://example.com/full-stack-js-portfolio</td>\n",
       "    </tr>\n",
       "    <tr>\n",
       "      <th>18</th>\n",
       "      <td>Machine Learning, Python, TensorFlow</td>\n",
       "      <td>https://example.com/ml-python-portfolio</td>\n",
       "    </tr>\n",
       "    <tr>\n",
       "      <th>19</th>\n",
       "      <td>DevOps, Jenkins, Docker</td>\n",
       "      <td>https://example.com/devops-portfolio</td>\n",
       "    </tr>\n",
       "  </tbody>\n",
       "</table>\n",
       "</div>"
      ],
      "text/plain": [
       "                               Techstack  \\\n",
       "0                React, Node.js, MongoDB   \n",
       "1               Angular,.NET, SQL Server   \n",
       "2      Vue.js, Ruby on Rails, PostgreSQL   \n",
       "3                  Python, Django, MySQL   \n",
       "4              Java, Spring Boot, Oracle   \n",
       "5             Flutter, Firebase, GraphQL   \n",
       "6                  WordPress, PHP, MySQL   \n",
       "7                    Magento, PHP, MySQL   \n",
       "8         React Native, Node.js, MongoDB   \n",
       "9                  iOS, Swift, Core Data   \n",
       "10       Android, Java, Room Persistence   \n",
       "11             Kotlin, Android, Firebase   \n",
       "12       Android TV, Kotlin, Android NDK   \n",
       "13                     iOS, Swift, ARKit   \n",
       "14        Cross-platform, Xamarin, Azure   \n",
       "15          Backend, Kotlin, Spring Boot   \n",
       "16         Frontend, TypeScript, Angular   \n",
       "17    Full-stack, JavaScript, Express.js   \n",
       "18  Machine Learning, Python, TensorFlow   \n",
       "19               DevOps, Jenkins, Docker   \n",
       "\n",
       "                                                Links  \n",
       "0                 https://example.com/react-portfolio  \n",
       "1               https://example.com/angular-portfolio  \n",
       "2                   https://example.com/vue-portfolio  \n",
       "3                https://example.com/python-portfolio  \n",
       "4                  https://example.com/java-portfolio  \n",
       "5               https://example.com/flutter-portfolio  \n",
       "6             https://example.com/wordpress-portfolio  \n",
       "7               https://example.com/magento-portfolio  \n",
       "8          https://example.com/react-native-portfolio  \n",
       "9                   https://example.com/ios-portfolio  \n",
       "10              https://example.com/android-portfolio  \n",
       "11       https://example.com/kotlin-android-portfolio  \n",
       "12           https://example.com/android-tv-portfolio  \n",
       "13               https://example.com/ios-ar-portfolio  \n",
       "14              https://example.com/xamarin-portfolio  \n",
       "15       https://example.com/kotlin-backend-portfolio  \n",
       "16  https://example.com/typescript-frontend-portfolio  \n",
       "17        https://example.com/full-stack-js-portfolio  \n",
       "18            https://example.com/ml-python-portfolio  \n",
       "19               https://example.com/devops-portfolio  "
      ]
     },
     "execution_count": 13,
     "metadata": {},
     "output_type": "execute_result"
    }
   ],
   "source": [
    "df"
   ]
  },
  {
   "cell_type": "code",
   "execution_count": 14,
   "id": "294060f7",
   "metadata": {},
   "outputs": [],
   "source": [
    "import uuid\n",
    "import chromadb\n",
    "\n",
    "client = chromadb.PersistentClient('vectorstore')\n",
    "collection = client.get_or_create_collection(name=\"portfolio\")\n",
    "\n",
    "if not collection.count():\n",
    "    for _, row in df.iterrows():\n",
    "        collection.add(documents=row[\"Techstack\"],\n",
    "                       metadatas={\"links\": row[\"Links\"]},\n",
    "                       ids=[str(uuid.uuid4())])"
   ]
  },
  {
   "cell_type": "code",
   "execution_count": 31,
   "id": "e5b7fac5",
   "metadata": {},
   "outputs": [],
   "source": [
    "# Query the collection for metadata\n",
    "results = collection.query(\n",
    "    query_texts=[\"Experience in Python\", \"Experience in React\"],\n",
    "    n_results=2\n",
    ")\n",
    "\n",
    "# Extract metadata from the results\n",
    "metadata = results.get('metadata', [])\n"
   ]
  },
  {
   "cell_type": "code",
   "execution_count": 33,
   "id": "75c947a4",
   "metadata": {},
   "outputs": [],
   "source": [
    "for _, row in df.iterrows():\n",
    "    collection.add(\n",
    "        documents=row[\"Techstack\"],\n",
    "        metadatas={\"links\": row[\"Links\"]},\n",
    "        ids=[str(uuid.uuid4())]\n",
    "    )\n"
   ]
  },
  {
   "cell_type": "code",
   "execution_count": 35,
   "id": "bce5e13f",
   "metadata": {},
   "outputs": [
    {
     "name": "stdout",
     "output_type": "stream",
     "text": [
      "Number of documents in collection: 40\n"
     ]
    }
   ],
   "source": [
    "print(\"Number of documents in collection:\", collection.count())\n",
    "\n"
   ]
  },
  {
   "cell_type": "code",
   "execution_count": 39,
   "id": "d784d11c",
   "metadata": {},
   "outputs": [
    {
     "name": "stdout",
     "output_type": "stream",
     "text": [
      "Number of documents in collection: 40\n",
      "Query results: {'ids': [['11a475f0-682d-436b-a1fc-091796c50923', 'a169f322-14c7-46bd-9230-a870b188f6b6'], ['2c5d76e3-8abf-4bc8-aeaa-3d602e4b4bfb', '7b42cbb5-b59b-4ef1-800a-246c75cea817']], 'distances': [[0.9968848007555503, 0.9968848007555503], [0.9630732819680135, 0.9630732819680135]], 'metadatas': [[{'links': 'https://example.com/ml-python-portfolio'}, {'links': 'https://example.com/ml-python-portfolio'}], [{'links': 'https://example.com/react-portfolio'}, {'links': 'https://example.com/react-portfolio'}]], 'embeddings': None, 'documents': [['Machine Learning, Python, TensorFlow', 'Machine Learning, Python, TensorFlow'], ['React, Node.js, MongoDB', 'React, Node.js, MongoDB']], 'uris': None, 'data': None, 'included': ['metadatas', 'documents', 'distances']}\n",
      "Metadata: []\n"
     ]
    }
   ],
   "source": [
    "import uuid\n",
    "import chromadb\n",
    "\n",
    "# Initialize the client and collection\n",
    "client = chromadb.PersistentClient('vectorstore')\n",
    "collection = client.get_or_create_collection(name=\"portfolio\")\n",
    "\n",
    "# Add documents if collection is empty\n",
    "if not collection.count():\n",
    "    for _, row in df.iterrows():\n",
    "        collection.add(\n",
    "            documents=row[\"Techstack\"],\n",
    "            metadatas={\"links\": row[\"Links\"]},\n",
    "            ids=[str(uuid.uuid4())]\n",
    "        )\n",
    "\n",
    "# Verify data in collection\n",
    "print(\"Number of documents in collection:\", collection.count())\n",
    "\n",
    "\n",
    "# Query the collection\n",
    "results = collection.query(\n",
    "    query_texts=[\"Experience in Python\", \"Experience in React\"],\n",
    "    n_results=2\n",
    ")\n",
    "\n",
    "# Print query results\n",
    "print(\"Query results:\", results)\n",
    "\n",
    "# Extract metadata from the results\n",
    "metadata = results.get('metadata', [])\n",
    "print(\"Metadata:\", metadata)\n"
   ]
  },
  {
   "cell_type": "code",
   "execution_count": 42,
   "id": "b0dbd46c",
   "metadata": {},
   "outputs": [
    {
     "name": "stdout",
     "output_type": "stream",
     "text": [
      "Number of documents in collection: 40\n",
      "Sample documents: {'ids': ['07343736-312d-42d6-883f-d95707e16c9a', '11a475f0-682d-436b-a1fc-091796c50923', '11cb239d-e288-49ee-a369-a6613498d111', '13fbae4a-c8db-4125-bc16-cfd0c8646f12', '14bc70a6-b1b7-40c6-9600-994739f626a5', '173346ed-e455-4137-9e75-459dffb47f7a', '19131120-c261-4f10-b96c-96472dc4bb41', '1c06f3c6-0b5d-401a-81d6-e9afe964dc4b', '1c623c45-84e2-454e-a1e8-a9130fa1e9dc', '1e706b00-9e39-4b0d-bd39-b2d314422a90', '2c5d76e3-8abf-4bc8-aeaa-3d602e4b4bfb', '394c2d84-e082-4419-8792-a19a5fde1a58', '3bb3a53a-2996-4680-9ebc-45a5a828bf51', '44693cee-9f0d-439a-b1fc-4ef3667e62ef', '49704e36-032a-4959-a411-753092e28d0c', '4c5dd65a-8092-4671-a4e4-7807721a015c', '4f923738-2fe1-434f-8f29-f5d9c3e4ad7b', '5158fd3a-d468-4bda-8a11-203f122896e9', '5c730298-a47c-4930-aa57-7eaf0d4f4419', '614c1936-33ae-47e8-aabe-fd9b758290ca', '6279c0ff-e3f6-4503-85b5-aaf2e1b38a08', '6b182d58-e316-4fe0-bf5b-b61bad7f4c61', '6e644bce-23bb-44ba-9e6d-dbf3f4e4d9b4', '726245fb-c494-4957-9c4c-ce5ca44a8967', '7b42cbb5-b59b-4ef1-800a-246c75cea817', '9163a762-f6b1-455a-91f9-d39e33870220', '91ee125f-c7c5-413e-a364-2bb2112aaa0a', '99bd1a5b-53c2-4b9c-9889-667fdded2b1e', 'a169f322-14c7-46bd-9230-a870b188f6b6', 'a2341445-0c49-4c6b-80eb-fb7ceba39c76', 'a4525c43-5d0b-44dd-9dc3-14ea0aaf8a3c', 'a8924910-e898-4119-885a-c3d2fa9b8d67', 'a93823fc-5a83-4f30-a5b8-556c170ada66', 'af60bb13-3cd9-4c12-9911-5ca90e55fe3b', 'bdd18dd8-d0c0-4f3c-9a02-96f055d2bfd6', 'c7f3dc27-04c9-4888-a49f-3e08e4c35919', 'ca30f16d-e6c4-46bb-a86f-0ea49c367c02', 'cb1ae85c-2384-4fe2-9da3-337932cd1b71', 'e1927fa6-cc57-4d05-8390-ddcefc053587', 'e550d61d-78a7-463e-8963-2f875798f1eb'], 'embeddings': None, 'metadatas': [{'links': 'https://example.com/vue-portfolio'}, {'links': 'https://example.com/ml-python-portfolio'}, {'links': 'https://example.com/kotlin-backend-portfolio'}, {'links': 'https://example.com/java-portfolio'}, {'links': 'https://example.com/android-tv-portfolio'}, {'links': 'https://example.com/react-native-portfolio'}, {'links': 'https://example.com/flutter-portfolio'}, {'links': 'https://example.com/python-portfolio'}, {'links': 'https://example.com/devops-portfolio'}, {'links': 'https://example.com/xamarin-portfolio'}, {'links': 'https://example.com/react-portfolio'}, {'links': 'https://example.com/ios-portfolio'}, {'links': 'https://example.com/full-stack-js-portfolio'}, {'links': 'https://example.com/magento-portfolio'}, {'links': 'https://example.com/typescript-frontend-portfolio'}, {'links': 'https://example.com/wordpress-portfolio'}, {'links': 'https://example.com/android-tv-portfolio'}, {'links': 'https://example.com/devops-portfolio'}, {'links': 'https://example.com/angular-portfolio'}, {'links': 'https://example.com/vue-portfolio'}, {'links': 'https://example.com/ios-ar-portfolio'}, {'links': 'https://example.com/typescript-frontend-portfolio'}, {'links': 'https://example.com/android-portfolio'}, {'links': 'https://example.com/android-portfolio'}, {'links': 'https://example.com/react-portfolio'}, {'links': 'https://example.com/ios-ar-portfolio'}, {'links': 'https://example.com/kotlin-android-portfolio'}, {'links': 'https://example.com/ios-portfolio'}, {'links': 'https://example.com/ml-python-portfolio'}, {'links': 'https://example.com/xamarin-portfolio'}, {'links': 'https://example.com/magento-portfolio'}, {'links': 'https://example.com/full-stack-js-portfolio'}, {'links': 'https://example.com/wordpress-portfolio'}, {'links': 'https://example.com/kotlin-backend-portfolio'}, {'links': 'https://example.com/flutter-portfolio'}, {'links': 'https://example.com/python-portfolio'}, {'links': 'https://example.com/angular-portfolio'}, {'links': 'https://example.com/react-native-portfolio'}, {'links': 'https://example.com/kotlin-android-portfolio'}, {'links': 'https://example.com/java-portfolio'}], 'documents': ['Vue.js, Ruby on Rails, PostgreSQL', 'Machine Learning, Python, TensorFlow', 'Backend, Kotlin, Spring Boot', 'Java, Spring Boot, Oracle', 'Android TV, Kotlin, Android NDK', 'React Native, Node.js, MongoDB', 'Flutter, Firebase, GraphQL', 'Python, Django, MySQL', 'DevOps, Jenkins, Docker', 'Cross-platform, Xamarin, Azure', 'React, Node.js, MongoDB', 'iOS, Swift, Core Data', 'Full-stack, JavaScript, Express.js', 'Magento, PHP, MySQL', 'Frontend, TypeScript, Angular', 'WordPress, PHP, MySQL', 'Android TV, Kotlin, Android NDK', 'DevOps, Jenkins, Docker', 'Angular,.NET, SQL Server', 'Vue.js, Ruby on Rails, PostgreSQL', 'iOS, Swift, ARKit', 'Frontend, TypeScript, Angular', 'Android, Java, Room Persistence', 'Android, Java, Room Persistence', 'React, Node.js, MongoDB', 'iOS, Swift, ARKit', 'Kotlin, Android, Firebase', 'iOS, Swift, Core Data', 'Machine Learning, Python, TensorFlow', 'Cross-platform, Xamarin, Azure', 'Magento, PHP, MySQL', 'Full-stack, JavaScript, Express.js', 'WordPress, PHP, MySQL', 'Backend, Kotlin, Spring Boot', 'Flutter, Firebase, GraphQL', 'Python, Django, MySQL', 'Angular,.NET, SQL Server', 'React Native, Node.js, MongoDB', 'Kotlin, Android, Firebase', 'Java, Spring Boot, Oracle'], 'uris': None, 'data': None, 'included': ['metadatas', 'documents']}\n",
      "Query results: {'ids': [['11a475f0-682d-436b-a1fc-091796c50923', 'a169f322-14c7-46bd-9230-a870b188f6b6'], ['2c5d76e3-8abf-4bc8-aeaa-3d602e4b4bfb', '7b42cbb5-b59b-4ef1-800a-246c75cea817']], 'distances': [[0.9968848007555503, 0.9968848007555503], [0.9630732819680135, 0.9630732819680135]], 'metadatas': [[{'links': 'https://example.com/ml-python-portfolio'}, {'links': 'https://example.com/ml-python-portfolio'}], [{'links': 'https://example.com/react-portfolio'}, {'links': 'https://example.com/react-portfolio'}]], 'embeddings': None, 'documents': [['Machine Learning, Python, TensorFlow', 'Machine Learning, Python, TensorFlow'], ['React, Node.js, MongoDB', 'React, Node.js, MongoDB']], 'uris': None, 'data': None, 'included': ['metadatas', 'documents', 'distances']}\n",
      "Metadata: [[{'links': 'https://example.com/ml-python-portfolio'}, {'links': 'https://example.com/ml-python-portfolio'}], [{'links': 'https://example.com/react-portfolio'}, {'links': 'https://example.com/react-portfolio'}]]\n"
     ]
    }
   ],
   "source": [
    "import uuid\n",
    "import chromadb\n",
    "\n",
    "# Initialize the client and collection\n",
    "client = chromadb.PersistentClient('vectorstore')\n",
    "collection = client.get_or_create_collection(name=\"portfolio\")\n",
    "\n",
    "# Add documents if collection is empty\n",
    "if not collection.count():\n",
    "    for _, row in df.iterrows():\n",
    "        collection.add(\n",
    "            documents=row[\"Techstack\"],\n",
    "            metadatas={\"links\": row[\"Links\"]},\n",
    "            ids=[str(uuid.uuid4())]\n",
    "        )\n",
    "\n",
    "# Verify data in collection\n",
    "print(\"Number of documents in collection:\", collection.count())\n",
    "print(\"Sample documents:\", collection.get())\n",
    "\n",
    "# Query the collection\n",
    "results = collection.query(\n",
    "    query_texts=[\"Experience in Python\", \"Experience in React\"],\n",
    "    n_results=2\n",
    ")\n",
    "\n",
    "# Print query results\n",
    "print(\"Query results:\", results)\n",
    "\n",
    "# Extract metadata from the results\n",
    "# Results structure: {'metadatas': [[...], [...]]}\n",
    "metadata = results['metadatas']\n",
    "\n",
    "# Print the metadata\n",
    "print(\"Metadata:\", metadata)\n"
   ]
  },
  {
   "cell_type": "code",
   "execution_count": null,
   "id": "505cbf80",
   "metadata": {},
   "outputs": [],
   "source": []
  },
  {
   "cell_type": "code",
   "execution_count": 44,
   "id": "bf51b460",
   "metadata": {},
   "outputs": [
    {
     "data": {
      "text/plain": [
       "[[{'links': 'https://example.com/ml-python-portfolio'},\n",
       "  {'links': 'https://example.com/ml-python-portfolio'}],\n",
       " [{'links': 'https://example.com/react-portfolio'},\n",
       "  {'links': 'https://example.com/react-portfolio'}]]"
      ]
     },
     "execution_count": 44,
     "metadata": {},
     "output_type": "execute_result"
    }
   ],
   "source": [
    "metadata"
   ]
  },
  {
   "cell_type": "code",
   "execution_count": 45,
   "id": "a114a4a7",
   "metadata": {},
   "outputs": [],
   "source": [
    "job = json_res"
   ]
  },
  {
   "cell_type": "code",
   "execution_count": 46,
   "id": "5a3f9b83",
   "metadata": {},
   "outputs": [
    {
     "data": {
      "text/plain": [
       "['PL/SQL',\n",
       " 'Cloud environments (AWS, Azure or GCP)',\n",
       " 'Scrum and other Agile processes',\n",
       " 'Jira, Git/SVN, Jenkins, CI/CD pipelines',\n",
       " 'Integrated Business Planning solutions like O9',\n",
       " 'Planning business domain, data domains, planning algorithms and solvers']"
      ]
     },
     "execution_count": 46,
     "metadata": {},
     "output_type": "execute_result"
    }
   ],
   "source": [
    "job['skills']"
   ]
  },
  {
   "cell_type": "code",
   "execution_count": 47,
   "id": "7b178e70",
   "metadata": {},
   "outputs": [
    {
     "data": {
      "text/plain": [
       "[[{'links': 'https://example.com/magento-portfolio'},\n",
       "  {'links': 'https://example.com/magento-portfolio'}],\n",
       " [{'links': 'https://example.com/xamarin-portfolio'},\n",
       "  {'links': 'https://example.com/xamarin-portfolio'}],\n",
       " [{'links': 'https://example.com/devops-portfolio'},\n",
       "  {'links': 'https://example.com/devops-portfolio'}],\n",
       " [{'links': 'https://example.com/devops-portfolio'},\n",
       "  {'links': 'https://example.com/devops-portfolio'}],\n",
       " [{'links': 'https://example.com/android-portfolio'},\n",
       "  {'links': 'https://example.com/android-portfolio'}],\n",
       " [{'links': 'https://example.com/ml-python-portfolio'},\n",
       "  {'links': 'https://example.com/ml-python-portfolio'}]]"
      ]
     },
     "execution_count": 47,
     "metadata": {},
     "output_type": "execute_result"
    }
   ],
   "source": [
    "links = collection.query(query_texts=job['skills'], n_results=2).get('metadatas', [])\n",
    "links"
   ]
  },
  {
   "cell_type": "code",
   "execution_count": 48,
   "id": "412e5a70",
   "metadata": {},
   "outputs": [
    {
     "data": {
      "text/plain": [
       "{'role': 'Lead Software Engineer, ITC',\n",
       " 'experience': '8+ years hands on experience in technical architecture, design, development & of demand or inventory planning products/applications',\n",
       " 'skills': ['PL/SQL',\n",
       "  'Cloud environments (AWS, Azure or GCP)',\n",
       "  'Scrum and other Agile processes',\n",
       "  'Jira, Git/SVN, Jenkins, CI/CD pipelines',\n",
       "  'Integrated Business Planning solutions like O9',\n",
       "  'Planning business domain, data domains, planning algorithms and solvers'],\n",
       " 'description': 'Lead and mentor a team of engineers with a focus to develop solutions for the various products of Demand & Supply Planning capability. Advocate and implement business transformation solutions and best practices. Advocate DevOps practices & mindset and strong culture of innovation.'}"
      ]
     },
     "execution_count": 48,
     "metadata": {},
     "output_type": "execute_result"
    }
   ],
   "source": [
    "job"
   ]
  },
  {
   "cell_type": "code",
   "execution_count": 49,
   "id": "e71f0943",
   "metadata": {},
   "outputs": [
    {
     "data": {
      "text/plain": [
       "['PL/SQL',\n",
       " 'Cloud environments (AWS, Azure or GCP)',\n",
       " 'Scrum and other Agile processes',\n",
       " 'Jira, Git/SVN, Jenkins, CI/CD pipelines',\n",
       " 'Integrated Business Planning solutions like O9',\n",
       " 'Planning business domain, data domains, planning algorithms and solvers']"
      ]
     },
     "execution_count": 49,
     "metadata": {},
     "output_type": "execute_result"
    }
   ],
   "source": [
    "job = json_res\n",
    "job['skills']"
   ]
  },
  {
   "cell_type": "code",
   "execution_count": 51,
   "id": "8b815c0e",
   "metadata": {},
   "outputs": [
    {
     "name": "stdout",
     "output_type": "stream",
     "text": [
      "Subject: Expert Lead Software Engineer, ITC Solutions with ChatterSphere\n",
      "\n",
      "Dear Hiring Manager,\n",
      "\n",
      "I came across your job posting for a Lead Software Engineer, ITC, and I'm excited to introduce you to ChatterSphere, an AI & Software Consulting company that can help you achieve your business goals. With our expertise in technical architecture, design, development, and deployment of demand or inventory planning products/applications, I believe we can be a great fit for your needs.\n",
      "\n",
      "Our team of experienced engineers has a proven track record of delivering high-quality solutions using PL/SQL, Cloud environments (AWS, Azure, or GCP), Scrum, and Agile processes. We're well-versed in Jira, Git/SVN, Jenkins, CI/CD pipelines, and Integrated Business Planning solutions like O9. Our expertise in planning business domains, data domains, planning algorithms, and solvers can help you develop innovative solutions for your Demand & Supply Planning capability.\n",
      "\n",
      "At ChatterSphere, we advocate for DevOps practices and a strong culture of innovation. Our team is dedicated to mentoring and leading engineers to develop solutions that drive business transformation and best practices.\n",
      "\n",
      "I'd like to highlight some of our relevant portfolio work:\n",
      "\n",
      "* Our DevOps expertise: https://example.com/devops-portfolio\n",
      "* Our experience with Cloud environments: https://example.com/devops-portfolio\n",
      "\n",
      "These examples demonstrate our capabilities in delivering scalable, efficient, and innovative solutions that can help you achieve your business objectives.\n",
      "\n",
      "If you're looking for a partner to help you develop and implement cutting-edge solutions for your Demand & Supply Planning capability, I'd love to schedule a call to discuss how ChatterSphere can support you.\n",
      "\n",
      "Please let me know if you're interested, and I'll be happy to set up a time that suits you.\n",
      "\n",
      "Best regards,\n",
      "\n",
      "Ray\n",
      "Founder at ChatterSphere\n"
     ]
    }
   ],
   "source": [
    "prompt_email = PromptTemplate.from_template(\n",
    "        \"\"\"\n",
    "        ### JOB DESCRIPTION:\n",
    "        {job_description}\n",
    "        \n",
    "        ### INSTRUCTION:\n",
    "        You are , a Ray, Founder at ChatterSphere. ChatterSphere is an AI & Software Consulting company dedicated to facilitating\n",
    "        the seamless integration of business processes through automated tools. \n",
    "        Over our experience, we have empowered numerous enterprises with tailored solutions, fostering scalability, \n",
    "        process optimization, cost reduction, and heightened overall efficiency. \n",
    "        Your job is to write a cold email to the client regarding the job mentioned above describing the capability of AtliQ \n",
    "        in fulfilling their needs.\n",
    "        Also add the most relevant ones from the following links to showcase ChatterSphere's portfolio: {link_list}\n",
    "        Remember you are Ray, Founder at ChatterSphere. \n",
    "        Do not provide a preamble.\n",
    "        ### EMAIL (NO PREAMBLE):\n",
    "        \n",
    "        \"\"\"\n",
    "        )\n",
    "\n",
    "chain_email = prompt_email | llm\n",
    "res = chain_email.invoke({\"job_description\": str(job), \"link_list\": links})\n",
    "print(res.content)"
   ]
  },
  {
   "cell_type": "code",
   "execution_count": null,
   "id": "6658c943",
   "metadata": {},
   "outputs": [],
   "source": []
  }
 ],
 "metadata": {
  "kernelspec": {
   "display_name": "Python 3 (ipykernel)",
   "language": "python",
   "name": "python3"
  },
  "language_info": {
   "codemirror_mode": {
    "name": "ipython",
    "version": 3
   },
   "file_extension": ".py",
   "mimetype": "text/x-python",
   "name": "python",
   "nbconvert_exporter": "python",
   "pygments_lexer": "ipython3",
   "version": "3.9.12"
  }
 },
 "nbformat": 4,
 "nbformat_minor": 5
}
